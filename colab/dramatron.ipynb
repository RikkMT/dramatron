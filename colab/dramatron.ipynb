{
  "cells": [
    {
      "cell_type": "code",
      "execution_count": null,
      "metadata": {
        "cellView": "form",
        "id": "BI4R8LJu0NTW"
      },
      "outputs": [],
      "source": [
        "#@title License\n",
        "license = \"\"\"\n",
        "Copyright 2022 DeepMind Technologies Limited\n",
        "\n",
        "Licensed under the Apache License, Version 2.0 (the \"License\"); you may not\n",
        "use this file except in compliance with the License. You may obtain a copy of\n",
        "the License at https://www.apache.org/licenses/LICENSE-2.0. Unless required by\n",
        "applicable law or agreed to in writing, software distributed under the License\n",
        "is distributed on an \"AS IS\" BASIS, WITHOUT WARRANTIES OR CONDITIONS OF ANY\n",
        "KIND, either express or implied. See the License for the specific language\n",
        "governing permissions and limitations under the License.\n",
        "\"\"\"\n",
        "print(license)"
      ]
    },
    {
      "cell_type": "code",
      "source": [],
      "metadata": {
        "id": "TZXIUnmHa5zD"
      },
      "execution_count": null,
      "outputs": []
    }
  ],
  "metadata": {
    "colab": {
      "collapsed_sections": [
        "3OAW4PeE1z7N"
      ],
      "name": "Dramatron",
      "private_outputs": true,
      "provenance": [],
      "toc_visible": true
    },
    "kernelspec": {
      "display_name": "Python 3",
      "name": "python3"
    },
    "language_info": {
      "name": "python"
    }
  },
  "nbformat": 4,
  "nbformat_minor": 0
}