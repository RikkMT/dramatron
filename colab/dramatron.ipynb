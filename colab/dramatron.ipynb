{
  "cells": [
    {
      "cell_type": "code",
      "execution_count": 1,
      "metadata": {
        "cellView": "form",
        "id": "BI4R8LJu0NTW"
      },
      "outputs": [
        {
          "name": "stdout",
          "output_type": "stream",
          "text": [
            "\n",
            "Copyright 2022 DeepMind Technologies Limited\n",
            "\n",
            "Licensed under the Apache License, Version 2.0 (the \"License\"); you may not\n",
            "use this file except in compliance with the License. You may obtain a copy of\n",
            "the License at https://www.apache.org/licenses/LICENSE-2.0. Unless required by\n",
            "applicable law or agreed to in writing, software distributed under the License\n",
            "is distributed on an \"AS IS\" BASIS, WITHOUT WARRANTIES OR CONDITIONS OF ANY\n",
            "KIND, either express or implied. See the License for the specific language\n",
            "governing permissions and limitations under the License.\n",
            "\n"
          ]
        }
      ],
      "source": [
        "#@title License\n",
        "license = \"\"\"\n",
        "Copyright 2022 DeepMind Technologies Limited\n",
        "\n",
        "Licensed under the Apache License, Version 2.0 (the \"License\"); you may not\n",
        "use this file except in compliance with the License. You may obtain a copy of\n",
        "the License at https://www.apache.org/licenses/LICENSE-2.0. Unless required by\n",
        "applicable law or agreed to in writing, software distributed under the License\n",
        "is distributed on an \"AS IS\" BASIS, WITHOUT WARRANTIES OR CONDITIONS OF ANY\n",
        "KIND, either express or implied. See the License for the specific language\n",
        "governing permissions and limitations under the License.\n",
        "\"\"\"\n",
        "print(license)"
      ]
    },
    {
      "cell_type": "markdown",
      "metadata": {
        "id": "smVKjDIBg5l-"
      },
      "source": [
        "# Dramatron\n",
        "\n",
        "**Piotr Mirowski, Kory Mathewson, Juliette Love, Jaylen Pittman**, based on an original prototype by **Richard Evans**.\n",
        "\n",
        "DeepMind, 2022\n",
        "\n",
        "Dramatron is a script writing tool that leverages large language models. It uses hierarchical generation to ensure long range consistency across the entire script. The work was published as a pre-print in Mirowski, Mathewson et al. (2022) \"[Co-Writing Screenplays and Theatre Scripts with Language Models: An Evaluation by Industry Professionals](https://arxiv.org/abs/2209.14958)\".\n",
        "\n",
        "![picture](https://github.com/deepmind/dramatron/raw/main/dramatron_logo.png)\n",
        "\n",
        "Thanks to everyone who attended the NeurIPS Workshop on Machine Learning for Creativity and Design, and we hope you enjoyed the Dramatron demo. For more information about this project, please see our arXiv paper.\n",
        "\n",
        "## Citing this work (paper and code):\n",
        "```bibtex\n",
        "@article{mirowski2022cowriting,\n",
        "  title={Co-Writing Screenplays and Theatre Scripts with Language Models: An Evaluation by Industry Professionals},\n",
        "  author={Mirowski, Piotr and Mathewson, Kory W and Pittman, Jaylen and Evans, Richard},\n",
        "  journal={arXiv preprint arXiv:2209.14958},\n",
        "  year={2022}\n",
        "}\n",
        "```"
      ]
    }
  ],
  "metadata": {
    "colab": {
      "collapsed_sections": [
        "3OAW4PeE1z7N"
      ],
      "last_runtime": {
        "build_target": "//research/colab/notebook:notebook_backend_py3",
        "kind": "private"
      },
      "name": "Dramatron",
      "private_outputs": true,
      "provenance": []
    },
    "kernelspec": {
      "display_name": "Python 3",
      "language": "python",
      "name": "python3"
    },
    "language_info": {
      "codemirror_mode": {
        "name": "ipython",
        "version": 3
      },
      "file_extension": ".py",
      "mimetype": "text/x-python",
      "name": "python",
      "nbconvert_exporter": "python",
      "pygments_lexer": "ipython3",
      "version": "3.10.10"
    },
    "vscode": {
      "interpreter": {
        "hash": "58dbfdb34cf82127b32c5737e6183911655ff227e5c11e8f5e4b25048ae98ef2"
      }
    }
  },
  "nbformat": 4,
  "nbformat_minor": 0
}
